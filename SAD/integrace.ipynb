{
 "cells": [
  {
   "cell_type": "markdown",
   "metadata": {},
   "source": [
    "## Výpočet integrálu lichoběžníkovou metodou"
   ]
  },
  {
   "cell_type": "code",
   "execution_count": 20,
   "metadata": {},
   "outputs": [],
   "source": [
    "integral <- function(func, a, b) {\n",
    "    if (b - a > 1) {\n",
    "        step <- 0.01\n",
    "        count <- (b - a) / step\n",
    "    }\n",
    "    else {\n",
    "        step <- (b - a) / 1000\n",
    "        count <- 1000\n",
    "    }\n",
    "    values <- seq(a, b, step)\n",
    "    values <- func(values)\n",
    "    result <- 0\n",
    "    for (val in values) {\n",
    "        result <- result + (2 * val)\n",
    "    }\n",
    "    result <- (result - values[1] - values[length(values)]) * (step / 2)\n",
    "    print(result)\n",
    "}"
   ]
  },
  {
   "cell_type": "code",
   "execution_count": 22,
   "metadata": {},
   "outputs": [],
   "source": [
    "func <- function(x) {\n",
    "    x ** 2\n",
    "}"
   ]
  },
  {
   "cell_type": "code",
   "execution_count": 23,
   "metadata": {},
   "outputs": [
    {
     "name": "stdout",
     "output_type": "stream",
     "text": [
      "[1] 39.00005\n"
     ]
    }
   ],
   "source": [
    "integral(func, 2, 5)"
   ]
  },
  {
   "cell_type": "code",
   "execution_count": null,
   "metadata": {},
   "outputs": [],
   "source": []
  }
 ],
 "metadata": {
  "kernelspec": {
   "display_name": "R",
   "language": "R",
   "name": "ir"
  },
  "language_info": {
   "codemirror_mode": "r",
   "file_extension": ".r",
   "mimetype": "text/x-r-source",
   "name": "R",
   "pygments_lexer": "r",
   "version": "3.6.1"
  }
 },
 "nbformat": 4,
 "nbformat_minor": 4
}
